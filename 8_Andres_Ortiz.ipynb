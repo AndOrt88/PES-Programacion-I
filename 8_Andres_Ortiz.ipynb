{
 "cells": [
  {
   "cell_type": "markdown",
   "metadata": {},
   "source": [
    "# Ejercicio día 8\n",
    "**Programación I**"
   ]
  },
  {
   "cell_type": "code",
   "execution_count": 134,
   "metadata": {},
   "outputs": [],
   "source": [
    "import numpy as np"
   ]
  },
  {
   "cell_type": "markdown",
   "metadata": {},
   "source": [
    "## Ejercicio 1\n",
    "\n",
    "Cree una matriz que contenga ceros. Rellene la mitad de ellos aleatoriamente con unos."
   ]
  },
  {
   "cell_type": "code",
   "execution_count": 92,
   "metadata": {},
   "outputs": [],
   "source": [
    "f=10\n",
    "col=10\n",
    "ceros=np.zeros(f*col)\n",
    "m=np.arange(100)"
   ]
  },
  {
   "cell_type": "code",
   "execution_count": 93,
   "metadata": {},
   "outputs": [
    {
     "data": {
      "text/plain": [
       "array([[0., 0., 1., 1., 0., 1., 1., 1., 0., 0.],\n",
       "       [0., 1., 1., 1., 1., 1., 0., 1., 1., 1.],\n",
       "       [1., 0., 0., 0., 0., 1., 0., 0., 1., 0.],\n",
       "       [0., 0., 0., 0., 1., 1., 1., 1., 0., 0.],\n",
       "       [0., 0., 0., 1., 0., 0., 1., 1., 0., 1.],\n",
       "       [0., 1., 0., 1., 1., 0., 0., 1., 0., 0.],\n",
       "       [1., 0., 1., 0., 1., 1., 1., 0., 0., 1.],\n",
       "       [1., 0., 0., 1., 1., 1., 0., 1., 0., 1.],\n",
       "       [0., 1., 1., 0., 1., 0., 1., 0., 1., 1.],\n",
       "       [0., 0., 0., 1., 1., 0., 1., 0., 0., 1.]])"
      ]
     },
     "execution_count": 93,
     "metadata": {},
     "output_type": "execute_result"
    }
   ],
   "source": [
    "matriz=np.random.choice(m, int((10*10)/2), replace=False)\n",
    "ceros[matriz]=1\n",
    "ceros.resize((10,10))\n",
    "ceros"
   ]
  },
  {
   "cell_type": "markdown",
   "metadata": {},
   "source": [
    "## Ejercicio 2\n",
    "Cree dos matrices de dimensiones $(5,2)$. La primera rellena de ceros y la siguiente de unos. \n",
    "1.\tConvierta las matrices en vectores columna. "
   ]
  },
  {
   "cell_type": "code",
   "execution_count": 94,
   "metadata": {},
   "outputs": [
    {
     "data": {
      "text/plain": [
       "array([[0.],\n",
       "       [0.],\n",
       "       [0.],\n",
       "       [0.],\n",
       "       [0.],\n",
       "       [0.],\n",
       "       [0.],\n",
       "       [0.],\n",
       "       [0.],\n",
       "       [0.]])"
      ]
     },
     "execution_count": 94,
     "metadata": {},
     "output_type": "execute_result"
    }
   ],
   "source": [
    "ceros=np.zeros([5,2])\n",
    "ceros.resize((10,1))\n",
    "ceros"
   ]
  },
  {
   "cell_type": "code",
   "execution_count": 95,
   "metadata": {},
   "outputs": [
    {
     "data": {
      "text/plain": [
       "array([[1.],\n",
       "       [1.],\n",
       "       [1.],\n",
       "       [1.],\n",
       "       [1.],\n",
       "       [1.],\n",
       "       [1.],\n",
       "       [1.],\n",
       "       [1.],\n",
       "       [1.]])"
      ]
     },
     "execution_count": 95,
     "metadata": {},
     "output_type": "execute_result"
    }
   ],
   "source": [
    "unos=np.ones([5,2])\n",
    "unos.resize((10,1))\n",
    "unos"
   ]
  },
  {
   "cell_type": "markdown",
   "metadata": {},
   "source": [
    "2.\tApile ambos vectores a lo largo de una tercera dimensión."
   ]
  },
  {
   "cell_type": "code",
   "execution_count": 96,
   "metadata": {},
   "outputs": [
    {
     "data": {
      "text/plain": [
       "array([[[0., 1.]],\n",
       "\n",
       "       [[0., 1.]],\n",
       "\n",
       "       [[0., 1.]],\n",
       "\n",
       "       [[0., 1.]],\n",
       "\n",
       "       [[0., 1.]],\n",
       "\n",
       "       [[0., 1.]],\n",
       "\n",
       "       [[0., 1.]],\n",
       "\n",
       "       [[0., 1.]],\n",
       "\n",
       "       [[0., 1.]],\n",
       "\n",
       "       [[0., 1.]]])"
      ]
     },
     "execution_count": 96,
     "metadata": {},
     "output_type": "execute_result"
    }
   ],
   "source": [
    "np.dstack((ceros,unos))"
   ]
  },
  {
   "cell_type": "markdown",
   "metadata": {},
   "source": [
    "3.\tCon las matrices originales, conviértalas en vectores fila y concaténelos verticalmente."
   ]
  },
  {
   "cell_type": "code",
   "execution_count": 97,
   "metadata": {},
   "outputs": [
    {
     "data": {
      "text/plain": [
       "array([[1., 1., 1., 1., 1., 1., 1., 1., 1., 1.]])"
      ]
     },
     "execution_count": 97,
     "metadata": {},
     "output_type": "execute_result"
    }
   ],
   "source": [
    "unos.resize((1,10))\n",
    "unos"
   ]
  },
  {
   "cell_type": "code",
   "execution_count": 98,
   "metadata": {},
   "outputs": [
    {
     "data": {
      "text/plain": [
       "array([[0., 0., 0., 0., 0., 0., 0., 0., 0., 0.]])"
      ]
     },
     "execution_count": 98,
     "metadata": {},
     "output_type": "execute_result"
    }
   ],
   "source": [
    "ceros.resize((1,10))\n",
    "ceros"
   ]
  },
  {
   "cell_type": "code",
   "execution_count": 110,
   "metadata": {},
   "outputs": [
    {
     "data": {
      "text/plain": [
       "array([[0.],\n",
       "       [0.],\n",
       "       [0.],\n",
       "       [0.],\n",
       "       [0.],\n",
       "       [0.],\n",
       "       [0.],\n",
       "       [0.],\n",
       "       [0.],\n",
       "       [0.],\n",
       "       [1.],\n",
       "       [1.],\n",
       "       [1.],\n",
       "       [1.],\n",
       "       [1.],\n",
       "       [1.],\n",
       "       [1.],\n",
       "       [1.],\n",
       "       [1.],\n",
       "       [1.]])"
      ]
     },
     "execution_count": 110,
     "metadata": {},
     "output_type": "execute_result"
    }
   ],
   "source": [
    "(np.concatenate((ceros,unos))).reshape((20,1))"
   ]
  },
  {
   "cell_type": "markdown",
   "metadata": {},
   "source": [
    "## Ejercicio 3\n",
    "\n",
    "Dada la función $f(x,y,z) = 2x +3y + z^2$\n",
    "1.\tGenere una matriz con números aleatorios para cada variable. \n"
   ]
  },
  {
   "cell_type": "code",
   "execution_count": 7,
   "metadata": {},
   "outputs": [
    {
     "data": {
      "text/plain": [
       "array([[5, 0, 5],\n",
       "       [2, 0, 4],\n",
       "       [5, 1, 8],\n",
       "       [2, 6, 1],\n",
       "       [3, 4, 3],\n",
       "       [9, 8, 4],\n",
       "       [5, 7, 6],\n",
       "       [4, 7, 0],\n",
       "       [5, 3, 8],\n",
       "       [9, 6, 6]])"
      ]
     },
     "execution_count": 7,
     "metadata": {},
     "output_type": "execute_result"
    }
   ],
   "source": [
    "n=10\n",
    "var = np.random.randint(10, size=(n, 3))\n",
    "var"
   ]
  },
  {
   "cell_type": "markdown",
   "metadata": {},
   "source": [
    "2.\tEvalúe la matriz anterior en la función. El resultado debe ser una matriz. "
   ]
  },
  {
   "cell_type": "code",
   "execution_count": 107,
   "metadata": {},
   "outputs": [],
   "source": [
    "def f(x):\n",
    "    \n",
    "    return (2*var[0:n,0]+3*var[0:n,1]+var[0:n,2]**2).reshape((n,1))\n"
   ]
  },
  {
   "cell_type": "code",
   "execution_count": 108,
   "metadata": {},
   "outputs": [
    {
     "data": {
      "text/plain": [
       "array([[35],\n",
       "       [20],\n",
       "       [77],\n",
       "       [23],\n",
       "       [27],\n",
       "       [58],\n",
       "       [67],\n",
       "       [29],\n",
       "       [83],\n",
       "       [72]])"
      ]
     },
     "execution_count": 108,
     "metadata": {},
     "output_type": "execute_result"
    }
   ],
   "source": [
    "f(var)"
   ]
  },
  {
   "cell_type": "markdown",
   "metadata": {},
   "source": [
    "## Ejercicio 4\n",
    "\n",
    "Suponga que dentro de un cuadrado de lado 50 cm, hay un cuadrado de 20cm. Ambos cuadrados comparten centro. Estime el área del cuadrado interno por método Monte Carlo. [Consulte Aquí]( http://mathonweb.com/entrtain/monte/t_monte.htm)"
   ]
  },
  {
   "cell_type": "markdown",
   "metadata": {},
   "source": [
    "Caso: Cuadrado menor en una esquina"
   ]
  },
  {
   "cell_type": "code",
   "execution_count": 139,
   "metadata": {},
   "outputs": [
    {
     "name": "stdout",
     "output_type": "stream",
     "text": [
      "408.4451460142068\n"
     ]
    }
   ],
   "source": [
    "sqr50=np.random.randint(0,2,size=(50,50))\n",
    "sqr20=sqr50[30:,0:20]\n",
    "print (50*50*sum(sum(sqr20))/sum(sum(sqr50)))"
   ]
  },
  {
   "cell_type": "markdown",
   "metadata": {},
   "source": [
    "Caso: Cuadrados Concentricos"
   ]
  },
  {
   "cell_type": "code",
   "execution_count": 138,
   "metadata": {},
   "outputs": [
    {
     "name": "stdout",
     "output_type": "stream",
     "text": [
      "416.331456154465\n"
     ]
    }
   ],
   "source": [
    "sqr50=np.random.randint(0,2,size=(50,50))\n",
    "sqr20=sqr50[15:35,15:35]\n",
    "print (50*50*sum(sum(sqr20))/sum(sum(sqr50)))"
   ]
  },
  {
   "cell_type": "markdown",
   "metadata": {},
   "source": [
    "2. Crear un ejemplo de cómo guardar y cargar arreglos de un archivo binario `.npy` y `.npz`:\n",
    "\n",
    "    - [NumPy binary files (NPY, NPZ)](https://numpy.org/devdocs/reference/routines.io.html#numpy-binary-files-npy-npz)"
   ]
  },
  {
   "cell_type": "markdown",
   "metadata": {},
   "source": [
    "Archivos NPY"
   ]
  },
  {
   "cell_type": "code",
   "execution_count": 113,
   "metadata": {},
   "outputs": [
    {
     "data": {
      "text/plain": [
       "array([[8, 0, 9, 9, 1],\n",
       "       [9, 2, 4, 9, 0],\n",
       "       [5, 9, 6, 7, 5],\n",
       "       [5, 2, 3, 7, 9],\n",
       "       [6, 6, 2, 5, 9]])"
      ]
     },
     "execution_count": 113,
     "metadata": {},
     "output_type": "execute_result"
    }
   ],
   "source": [
    "arr = np.random.randint(10, size=(5, 5))\n",
    "arr"
   ]
  },
  {
   "cell_type": "code",
   "execution_count": 114,
   "metadata": {},
   "outputs": [],
   "source": [
    "np.save(\"archivo_npy.npy\",arr)"
   ]
  },
  {
   "cell_type": "code",
   "execution_count": 115,
   "metadata": {},
   "outputs": [
    {
     "data": {
      "text/plain": [
       "array([[8, 0, 9, 9, 1],\n",
       "       [9, 2, 4, 9, 0],\n",
       "       [5, 9, 6, 7, 5],\n",
       "       [5, 2, 3, 7, 9],\n",
       "       [6, 6, 2, 5, 9]])"
      ]
     },
     "execution_count": 115,
     "metadata": {},
     "output_type": "execute_result"
    }
   ],
   "source": [
    "np.load(\"archivo_npy.npy\")"
   ]
  },
  {
   "cell_type": "markdown",
   "metadata": {},
   "source": [
    "Archivos NPZ"
   ]
  },
  {
   "cell_type": "code",
   "execution_count": 124,
   "metadata": {},
   "outputs": [],
   "source": [
    "np.savez(\"archivo_npz.npz\",arr)"
   ]
  },
  {
   "cell_type": "code",
   "execution_count": 131,
   "metadata": {},
   "outputs": [
    {
     "data": {
      "text/plain": [
       "<numpy.lib.npyio.NpzFile at 0x15b4a348c08>"
      ]
     },
     "execution_count": 131,
     "metadata": {},
     "output_type": "execute_result"
    }
   ],
   "source": [
    "np.load(\"archivo_npz.npz\")"
   ]
  },
  {
   "cell_type": "code",
   "execution_count": 132,
   "metadata": {},
   "outputs": [
    {
     "data": {
      "text/plain": [
       "['arr_0']"
      ]
     },
     "execution_count": 132,
     "metadata": {},
     "output_type": "execute_result"
    }
   ],
   "source": [
    "file_npz=np.load(\"archivo_npz.npz\")\n",
    "file_npz.files"
   ]
  },
  {
   "cell_type": "markdown",
   "metadata": {},
   "source": [
    "3. Crear un ejemplo de cómo guardar y cargar arreglos de un archivo de texto `.txt`:\n",
    "\n",
    "    - [NumPy Text files](https://numpy.org/devdocs/reference/routines.io.html#text-files)    "
   ]
  },
  {
   "cell_type": "code",
   "execution_count": 111,
   "metadata": {},
   "outputs": [],
   "source": [
    "##Con esta funcion guarda los arreglos de un archivo de texto\n",
    "x=np.array([[1,2,3],[4,5,6],[7,8,9]],np.int32)\n",
    "np.savetxt(\"prueba.txt\",x)"
   ]
  },
  {
   "cell_type": "code",
   "execution_count": 112,
   "metadata": {},
   "outputs": [
    {
     "data": {
      "text/plain": [
       "array([[1., 2., 3.],\n",
       "       [4., 5., 6.],\n",
       "       [7., 8., 9.]])"
      ]
     },
     "execution_count": 112,
     "metadata": {},
     "output_type": "execute_result"
    }
   ],
   "source": [
    "#Con esta funcion carga los arreglos de un archivo de texto\n",
    "np.loadtxt(\"prueba.txt\")"
   ]
  },
  {
   "cell_type": "markdown",
   "metadata": {},
   "source": [
    "4. Crear una función llamada `estimacionMCO` que lea un archivo CSV con 7 columnas, que corresponden a las variables $(x_{1i}, \\ldots, x_{6i})$ y $y_i$. \n",
    "    - La función debe computar matricialmente los parámetros del modelo de regresión lineal: $y = X\\beta$. \n",
    "    - Estos parámetros deben ser devueltos como un arreglo de NumPy. \n",
    "\n",
    "    - Utilice la función de lectura de archivos de NumPy."
   ]
  },
  {
   "cell_type": "code",
   "execution_count": 35,
   "metadata": {},
   "outputs": [
    {
     "data": {
      "text/plain": [
       "array([[23, 76, 83, 75, 12, 79, 60],\n",
       "       [91, 85, 33, 97, 52, 85, 84],\n",
       "       [73, 31, 12, 55, 78, 69, 73],\n",
       "       [33,  3, 62, 32, 11, 72, 98],\n",
       "       [45, 73, 71, 34, 41, 82, 15],\n",
       "       [ 9, 20,  2, 19, 74, 33, 19],\n",
       "       [ 2, 53, 58, 82, 11, 76, 76],\n",
       "       [75, 75, 49, 97, 98, 23, 78],\n",
       "       [91, 82,  2, 16, 85, 24, 13],\n",
       "       [33, 42,  9, 24, 90, 50, 66]])"
      ]
     },
     "execution_count": 35,
     "metadata": {},
     "output_type": "execute_result"
    }
   ],
   "source": [
    "n=10\n",
    "variables = np.random.randint(100, size=(n, 7))\n",
    "variables\n"
   ]
  },
  {
   "cell_type": "code",
   "execution_count": 42,
   "metadata": {},
   "outputs": [],
   "source": [
    "np.savetxt(\"estimacionMCO.csv\", variables, delimiter=' ', fmt='%d')"
   ]
  },
  {
   "cell_type": "code",
   "execution_count": 26,
   "metadata": {},
   "outputs": [],
   "source": [
    "def estimacionMCO(datos):\n",
    "    return np.loadtxt(\"estimacionMCO.csv\", delimiter=',', skiprows=1)"
   ]
  },
  {
   "cell_type": "code",
   "execution_count": 28,
   "metadata": {},
   "outputs": [
    {
     "data": {
      "text/plain": [
       "array([[0.97748995, 0.18917939, 0.20513222, 0.31936232, 0.29773124,\n",
       "        0.69318276, 0.30423391],\n",
       "       [0.12539001, 0.26668247, 0.17440796, 0.79643397, 0.79142584,\n",
       "        0.56020648, 0.49705229],\n",
       "       [0.17081097, 0.73571549, 0.4749512 , 0.75607613, 0.98845527,\n",
       "        0.37152488, 0.14639633],\n",
       "       [0.71468347, 0.77195859, 0.3785725 , 0.59741828, 0.26881934,\n",
       "        0.3647765 , 0.90220233],\n",
       "       [0.06518178, 0.87919118, 0.60466537, 0.33905272, 0.71405363,\n",
       "        0.84851003, 0.09751689],\n",
       "       [0.19063337, 0.45771046, 0.2428601 , 0.95816729, 0.87867416,\n",
       "        0.21305151, 0.44228944],\n",
       "       [0.55838379, 0.98403945, 0.92940718, 0.37420553, 0.942753  ,\n",
       "        0.85620295, 0.86205779],\n",
       "       [0.52553142, 0.33674251, 0.74307742, 0.81600889, 0.70066451,\n",
       "        0.93926452, 0.65115339],\n",
       "       [0.49355334, 0.02030058, 0.51231172, 0.41579386, 0.97848751,\n",
       "        0.37150138, 0.31189439],\n",
       "       [0.49088189, 0.01141994, 0.26502864, 0.27138117, 0.19882864,\n",
       "        0.73271098, 0.47544686],\n",
       "       [0.05270321, 0.53900053, 0.565349  , 0.05808157, 0.28944323,\n",
       "        0.19069106, 0.64595001],\n",
       "       [0.29494867, 0.3944751 , 0.90729264, 0.1533969 , 0.85033795,\n",
       "        0.82779637, 0.84132325],\n",
       "       [0.27208785, 0.91865169, 0.01135332, 0.24617922, 0.95614888,\n",
       "        0.92391158, 0.61751476],\n",
       "       [0.6596557 , 0.33548565, 0.87324872, 0.97554389, 0.23295298,\n",
       "        0.39239784, 0.22020066]])"
      ]
     },
     "execution_count": 28,
     "metadata": {},
     "output_type": "execute_result"
    }
   ],
   "source": [
    "datos=1\n",
    "estimacionMCO(datos)"
   ]
  }
 ],
 "metadata": {
  "kernelspec": {
   "display_name": "Python 3",
   "language": "python",
   "name": "python3"
  },
  "language_info": {
   "codemirror_mode": {
    "name": "ipython",
    "version": 3
   },
   "file_extension": ".py",
   "mimetype": "text/x-python",
   "name": "python",
   "nbconvert_exporter": "python",
   "pygments_lexer": "ipython3",
   "version": "3.7.4"
  }
 },
 "nbformat": 4,
 "nbformat_minor": 2
}
