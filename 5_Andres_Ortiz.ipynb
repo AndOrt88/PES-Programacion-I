{
 "cells": [
  {
   "cell_type": "markdown",
   "metadata": {},
   "source": [
    "# Tarea #6\n",
    "**Programacion I**"
   ]
  },
  {
   "cell_type": "markdown",
   "metadata": {},
   "source": [
    "#### OOP - Ejercicio de Comparación de Canastas"
   ]
  },
  {
   "cell_type": "code",
   "execution_count": 187,
   "metadata": {},
   "outputs": [],
   "source": [
    "class Canasta(object):\n",
    "    \"\"\"\n",
    "    Canasta de bienes.\n",
    "    \"\"\"\n",
    "    def __init__(self, cerveza, ocio, ceviche):\n",
    "        \n",
    "        assert type(cerveza) == int , type(ocio) == int and type(ceviche) == int \n",
    "        self.cerveza = cerveza #EL usuario debe de introducir el no. de tarros de cerveza\n",
    "        self.ocio = ocio       #EL usuario debe de introducir el no. horas de ocio\n",
    "        self.ceviche = ceviche #EL usuario debe de introducir el no. de platos de ceviche\n",
    "        \n",
    "    def __str__(self):\n",
    "        \n",
    "        return \"(\"+str(self.cerveza) + \",\" + str(self.ocio)+ \",\"+ str(self.ceviche)+\")\"\n",
    "    \n",
    " \n",
    "        \n",
    "        U1=self.cerveza**0.3*self.ocio**0.6*self.ceviche**0.1\n",
    "        U2=other.cerveza**0.3*other.ocio**0.6*other.ceviche**0.1\n",
    "    \n",
    "    def __lt__(self, other):\n",
    "        # Cómo saber si una canasta es preferible a otra\n",
    "        # Devuelve True si la canasta self es preferible a other\n",
    "        # False en caso contrario\n",
    "        \n",
    "        U1=self.cerveza**0.3*self.ocio**0.6*self.ceviche**0.1\n",
    "        U2=other.cerveza**0.3*other.ocio**0.6*other.ceviche**0.1\n",
    "        \n",
    "        if U1>U2:\n",
    "            return False\n",
    "        else:\n",
    "            return True\n",
    "    \n",
    "    def __eq__(self, other):\n",
    "        # Cómo saber si una canasta es indiferente a otra\n",
    "        # Devuelve True si self genera la misma utilidad\n",
    "        # que la canasta other, False en caso contrario\n",
    "        \n",
    "        U1=self.cerveza**0.3*self.ocio**0.6*self.ceviche**0.1\n",
    "        U2=other.cerveza**0.3*other.ocio**0.6*other.ceviche**0.1\n",
    "        \n",
    "        if U1==U2:\n",
    "            return True\n",
    "        else:\n",
    "            return False"
   ]
  },
  {
   "cell_type": "code",
   "execution_count": 175,
   "metadata": {},
   "outputs": [
    {
     "name": "stdout",
     "output_type": "stream",
     "text": [
      "(10,12,4)\n"
     ]
    }
   ],
   "source": [
    "Mario=Canasta(10,12,4)\n",
    "print(Mario)"
   ]
  },
  {
   "cell_type": "code",
   "execution_count": 192,
   "metadata": {},
   "outputs": [
    {
     "data": {
      "text/plain": [
       "True"
      ]
     },
     "execution_count": 192,
     "metadata": {},
     "output_type": "execute_result"
    }
   ],
   "source": [
    "a=Canasta(10,12,24)\n",
    "b=Canasta(10,12,24)\n",
    "a==b"
   ]
  },
  {
   "cell_type": "code",
   "execution_count": 191,
   "metadata": {},
   "outputs": [
    {
     "data": {
      "text/plain": [
       "True"
      ]
     },
     "execution_count": 191,
     "metadata": {},
     "output_type": "execute_result"
    }
   ],
   "source": [
    "a=Canasta(10,12,24)\n",
    "b=Canasta(10,12,24)\n",
    "a<b"
   ]
  },
  {
   "cell_type": "code",
   "execution_count": 190,
   "metadata": {},
   "outputs": [
    {
     "data": {
      "text/plain": [
       "False"
      ]
     },
     "execution_count": 190,
     "metadata": {},
     "output_type": "execute_result"
    }
   ],
   "source": [
    "a=Canasta(10,12,24)\n",
    "b=Canasta(8,10,24)\n",
    "a==b"
   ]
  },
  {
   "cell_type": "code",
   "execution_count": 188,
   "metadata": {},
   "outputs": [
    {
     "data": {
      "text/plain": [
       "True"
      ]
     },
     "execution_count": 188,
     "metadata": {},
     "output_type": "execute_result"
    }
   ],
   "source": [
    "a=Canasta(10,12,24)\n",
    "b=Canasta(8,10,24)\n",
    "a>b"
   ]
  },
  {
   "cell_type": "code",
   "execution_count": 189,
   "metadata": {},
   "outputs": [
    {
     "data": {
      "text/plain": [
       "False"
      ]
     },
     "execution_count": 189,
     "metadata": {},
     "output_type": "execute_result"
    }
   ],
   "source": [
    "a=Canasta(10,12,24)\n",
    "b=Canasta(8,10,24)\n",
    "a<b"
   ]
  },
  {
   "cell_type": "markdown",
   "metadata": {},
   "source": [
    "#### OOP - Ejercicio de Cifrado de Mensaje Método César"
   ]
  },
  {
   "cell_type": "code",
   "execution_count": 164,
   "metadata": {},
   "outputs": [],
   "source": [
    "class Mensaje(object):\n",
    "    \"\"\"\n",
    "    Objeto que contiene un mensaje y lo encripta por el método César, con el desplazamiento \"s\" indicado\n",
    "    \"\"\"\n",
    "    def __init__(self, msg, s):\n",
    "               \n",
    "        assert type(msg) == str and type(s) == int \n",
    "        self.msg = msg\n",
    "        self.s = s\n",
    "        \n",
    "        \n",
    "    def __str__(self):\n",
    "        #Regresa una cadena (mensaje) encriptado con el desplazamiento \"s\" introducido\n",
    "        \n",
    "        msgencryp=\"\"\n",
    "        for char in self.msg:\n",
    "            l=ord(char)+self.s\n",
    "            msgencryp=msgencryp + chr(l)\n",
    "         \n",
    "        return msgencryp"
   ]
  },
  {
   "cell_type": "code",
   "execution_count": 194,
   "metadata": {},
   "outputs": [
    {
     "name": "stdout",
     "output_type": "stream",
     "text": [
      "Krod/#vr|#Glhjr\n"
     ]
    }
   ],
   "source": [
    "c=Mensaje(\"Hola, soy Diego\",3)\n",
    "print(c)"
   ]
  },
  {
   "cell_type": "markdown",
   "metadata": {},
   "source": [
    "## Ejercicio 1\n",
    "\n",
    "Ejecute el siguiente programa y explique su procedimiento y el porqué del resultado. "
   ]
  },
  {
   "cell_type": "code",
   "execution_count": 1,
   "metadata": {},
   "outputs": [
    {
     "ename": "RecursionError",
     "evalue": "maximum recursion depth exceeded",
     "output_type": "error",
     "traceback": [
      "\u001b[1;31m---------------------------------------------------------------------------\u001b[0m",
      "\u001b[1;31mRecursionError\u001b[0m                            Traceback (most recent call last)",
      "\u001b[1;32m<ipython-input-1-00d266b39dc6>\u001b[0m in \u001b[0;36m<module>\u001b[1;34m\u001b[0m\n\u001b[0;32m      2\u001b[0m     \u001b[0mf\u001b[0m\u001b[1;33m(\u001b[0m\u001b[0mf\u001b[0m\u001b[1;33m)\u001b[0m\u001b[1;33m\u001b[0m\u001b[1;33m\u001b[0m\u001b[0m\n\u001b[0;32m      3\u001b[0m \u001b[1;33m\u001b[0m\u001b[0m\n\u001b[1;32m----> 4\u001b[1;33m \u001b[0mRecusion\u001b[0m\u001b[1;33m(\u001b[0m\u001b[0mRecusion\u001b[0m\u001b[1;33m)\u001b[0m\u001b[1;33m\u001b[0m\u001b[1;33m\u001b[0m\u001b[0m\n\u001b[0m",
      "\u001b[1;32m<ipython-input-1-00d266b39dc6>\u001b[0m in \u001b[0;36mRecusion\u001b[1;34m(f)\u001b[0m\n\u001b[0;32m      1\u001b[0m \u001b[1;32mdef\u001b[0m \u001b[0mRecusion\u001b[0m\u001b[1;33m(\u001b[0m\u001b[0mf\u001b[0m\u001b[1;33m)\u001b[0m\u001b[1;33m:\u001b[0m\u001b[1;33m\u001b[0m\u001b[1;33m\u001b[0m\u001b[0m\n\u001b[1;32m----> 2\u001b[1;33m     \u001b[0mf\u001b[0m\u001b[1;33m(\u001b[0m\u001b[0mf\u001b[0m\u001b[1;33m)\u001b[0m\u001b[1;33m\u001b[0m\u001b[1;33m\u001b[0m\u001b[0m\n\u001b[0m\u001b[0;32m      3\u001b[0m \u001b[1;33m\u001b[0m\u001b[0m\n\u001b[0;32m      4\u001b[0m \u001b[0mRecusion\u001b[0m\u001b[1;33m(\u001b[0m\u001b[0mRecusion\u001b[0m\u001b[1;33m)\u001b[0m\u001b[1;33m\u001b[0m\u001b[1;33m\u001b[0m\u001b[0m\n",
      "... last 1 frames repeated, from the frame below ...\n",
      "\u001b[1;32m<ipython-input-1-00d266b39dc6>\u001b[0m in \u001b[0;36mRecusion\u001b[1;34m(f)\u001b[0m\n\u001b[0;32m      1\u001b[0m \u001b[1;32mdef\u001b[0m \u001b[0mRecusion\u001b[0m\u001b[1;33m(\u001b[0m\u001b[0mf\u001b[0m\u001b[1;33m)\u001b[0m\u001b[1;33m:\u001b[0m\u001b[1;33m\u001b[0m\u001b[1;33m\u001b[0m\u001b[0m\n\u001b[1;32m----> 2\u001b[1;33m     \u001b[0mf\u001b[0m\u001b[1;33m(\u001b[0m\u001b[0mf\u001b[0m\u001b[1;33m)\u001b[0m\u001b[1;33m\u001b[0m\u001b[1;33m\u001b[0m\u001b[0m\n\u001b[0m\u001b[0;32m      3\u001b[0m \u001b[1;33m\u001b[0m\u001b[0m\n\u001b[0;32m      4\u001b[0m \u001b[0mRecusion\u001b[0m\u001b[1;33m(\u001b[0m\u001b[0mRecusion\u001b[0m\u001b[1;33m)\u001b[0m\u001b[1;33m\u001b[0m\u001b[1;33m\u001b[0m\u001b[0m\n",
      "\u001b[1;31mRecursionError\u001b[0m: maximum recursion depth exceeded"
     ]
    }
   ],
   "source": [
    "def Recusion(f):\n",
    "    f(f)\n",
    "    \n",
    "Recusion(Recusion)"
   ]
  },
  {
   "cell_type": "markdown",
   "metadata": {},
   "source": [
    "###### Es una función que utliza como entrada principal a la misma, convirtiéndose en un loop infinito; donde no se encuentran contenidos casos bases a simplificar o a resolver; o entradas adicionales que ayuden a dicha tarea."
   ]
  },
  {
   "cell_type": "markdown",
   "metadata": {},
   "source": [
    "## Ejercicio 2\n",
    "\n",
    "Vea el siguiente vídeo: <https://www.youtube.com/watch?v=qxRW5pDT2o4>  \n",
    "\n",
    "Complete el código siguiente para encontrar el máximo común divisor dado dos números enteros. \n",
    "\n",
    "Las condiciones básicas, son:"
   ]
  },
  {
   "cell_type": "markdown",
   "metadata": {},
   "source": [
    "Para dos números $a$ y $b$, tal que $b\\leq a$:\n",
    "* $mcd(a,0) = a$\n",
    "* Si $b\\vert a$ (divida enteramente), entonces $mcd(a,b)=b$\n",
    "* En otro caso, $mcd(a,b) = mcd(b,a \\,mod \\, b)$\n",
    "\n"
   ]
  },
  {
   "cell_type": "code",
   "execution_count": 34,
   "metadata": {},
   "outputs": [],
   "source": [
    "def mcd(a,b):\n",
    "    '''Donde a >= b'''\n",
    "    if a % b ==0: #Encuentre la condición:\n",
    "        return b\n",
    "    elif a%b >0: #Añada la condición faltante:\n",
    "        return mcd(b,a%b)#Añada el procedimiento faltante\n",
    "    else:\n",
    "        return mcd(b,a%b)\n",
    "    "
   ]
  },
  {
   "cell_type": "code",
   "execution_count": 49,
   "metadata": {},
   "outputs": [
    {
     "data": {
      "text/plain": [
       "4"
      ]
     },
     "execution_count": 49,
     "metadata": {},
     "output_type": "execute_result"
    }
   ],
   "source": [
    "(a,b)=(20,12)\n",
    "mcd(a,b)"
   ]
  },
  {
   "cell_type": "markdown",
   "metadata": {},
   "source": [
    "## Ejercicio 3\n",
    "\n",
    "Implemente un algoritmo recursivo para obtener la parte entera de la división entre dos números enteros. (Pista: Asocie con la resta)."
   ]
  },
  {
   "cell_type": "code",
   "execution_count": 23,
   "metadata": {},
   "outputs": [],
   "source": [
    "def Div_recur(a,b):\n",
    "    \"\"\"\n",
    "    Función recursiva que retorna la parte entera de la división entre dos números enteres; \n",
    "    donde \"a\" debe de ser mayor o igual a \"b\".\n",
    "    \"\"\"\n",
    "    if a-b<0:\n",
    "        return 0\n",
    "    \n",
    "    else:\n",
    "        \n",
    "        return 1+ Div_recur(a-b,b)\n",
    "    "
   ]
  },
  {
   "cell_type": "code",
   "execution_count": 24,
   "metadata": {},
   "outputs": [
    {
     "data": {
      "text/plain": [
       "29"
      ]
     },
     "execution_count": 24,
     "metadata": {},
     "output_type": "execute_result"
    }
   ],
   "source": [
    "(a,b)=(348,12)\n",
    "Div_recur(a,b)\n"
   ]
  },
  {
   "cell_type": "markdown",
   "metadata": {},
   "source": [
    "# Ejercicio 4\n",
    "\n",
    "En el ejemplo de clase (Coordinate), modifique el método constructor para que verifique que los argumentos $x$ y $y$ sean flotantes.  "
   ]
  },
  {
   "cell_type": "code",
   "execution_count": null,
   "metadata": {},
   "outputs": [],
   "source": [
    "    \n",
    "class Coordinate(object):\n",
    "    # Atributos (datos, funciones)\n",
    "    # ...\n",
    "    \n",
    "    # Método constructor\n",
    "    def __init__(self, x, y):\n",
    "        # ¿Cómo queremos inicializar el objeto?\n",
    "        imprimirIni()\n",
    "        \"\"\"\n",
    "        MODIFICACION\n",
    "        \"\"\"\n",
    "        #La siguiente definición, verifica que los argumentos \"x\" y \"y\" son flotantes\n",
    "        assert type(x) == float and type(y) == float, \"Necesita valores flotantes\"\n",
    "         \"\"\"\n",
    "        MODIFICACION\n",
    "        \"\"\"\n",
    "        self.x = x\n",
    "        self.y = y\n",
    "        \n",
    "        "
   ]
  },
  {
   "cell_type": "markdown",
   "metadata": {},
   "source": [
    "# Ejercicio 5"
   ]
  },
  {
   "cell_type": "markdown",
   "metadata": {},
   "source": [
    "1. Cree una clase llamada ``Persona``, que asigne una cadena a la propiedad ``nombre`` y un número entero a la propiedad ``edad``. Al imprimir el objeto, debe concatenar tanto el nombre con la edad."
   ]
  },
  {
   "cell_type": "code",
   "execution_count": 157,
   "metadata": {},
   "outputs": [],
   "source": [
    "class Persona(object):\n",
    "    \"\"\"\n",
    "    Parte 1: Clase que recibe nombre de una persona y su edad.\n",
    "    \"\"\"\n",
    "    def __init__(self, nombre, edad, altura):\n",
    "        \n",
    "    #Parte 3: Se modificó la propiedad del objeto para que contenga la altura.\n",
    "       \n",
    "        assert type(nombre) == str and type(edad) == int and type(altura) == float \n",
    "        self.nombre = nombre\n",
    "        self.edad = edad\n",
    "        self.altura = altura\n",
    "        \n",
    "    def __str__(self):\n",
    "        #Regresa una cadena de nombre de la persona con su edad respectiva\n",
    "        return str(self.nombre) + \",\" + str(self.edad)+ \",\"+ str(self.altura)+\"m\"\n",
    "    \n",
    "    \"\"\"\n",
    "    Parte 2: Suma de nombres y edades. Parte 3: Suma de alturas\n",
    "    \"\"\"\n",
    "    \n",
    "    def __add__(self, other):\n",
    "        \n",
    "        names = self.nombre + \"+\" + other.nombre \n",
    "        ages = self.edad+other.edad\n",
    "        heights = self.altura+other.altura\n",
    "        #Se le agregó el atributo de edad para poder sumar los objetos.\n",
    "        return Persona(names, ages, heights)\n",
    "    \n",
    "    def __len__(self):\n",
    "        return self.altura"
   ]
  },
  {
   "cell_type": "code",
   "execution_count": 102,
   "metadata": {},
   "outputs": [
    {
     "name": "stdout",
     "output_type": "stream",
     "text": [
      "Andres,31\n",
      "Mingo,27\n"
     ]
    }
   ],
   "source": [
    "a = Persona(\"Andres\",31)\n",
    "b = Persona(\"Mingo\",27)\n",
    "print (a)\n",
    "print (b)"
   ]
  },
  {
   "cell_type": "markdown",
   "metadata": {},
   "source": [
    "2. A la clase anterior, añada un método para sumar dos objetos de tipo ``Persona``. El resultado debe ser ambos nombres concatenados y la suma de ambas edades."
   ]
  },
  {
   "cell_type": "code",
   "execution_count": 103,
   "metadata": {},
   "outputs": [
    {
     "name": "stdout",
     "output_type": "stream",
     "text": [
      "Andres+Mingo,58\n"
     ]
    }
   ],
   "source": [
    "print(a+b)"
   ]
  },
  {
   "cell_type": "markdown",
   "metadata": {},
   "source": [
    "3. Modifique la clase para que el objeto tenga otra propiedad llamada ``altura``. Cuando se solicite la longitud del objeto, muestre la altura. También debe modificar el método de impresión para que muestre la altura. ¿Qué pasa con el método de suma?"
   ]
  },
  {
   "cell_type": "code",
   "execution_count": 122,
   "metadata": {},
   "outputs": [
    {
     "name": "stdout",
     "output_type": "stream",
     "text": [
      "Oso,29,1.75m\n",
      "Mingo,27,1.68m\n"
     ]
    }
   ],
   "source": [
    "a = Persona(\"Oso\",29,1.75)\n",
    "b = Persona(\"Mingo\",27,1.68)\n",
    "print (a)\n",
    "print (b)"
   ]
  },
  {
   "cell_type": "markdown",
   "metadata": {},
   "source": [
    "###### Necesita agregarsele al método de suma, el campo de las alturas para obtener la suma de las alturas"
   ]
  },
  {
   "cell_type": "code",
   "execution_count": 125,
   "metadata": {},
   "outputs": [
    {
     "name": "stdout",
     "output_type": "stream",
     "text": [
      "Oso+Mingo,56,3.4299999999999997m\n"
     ]
    }
   ],
   "source": [
    "print(a+b)\n"
   ]
  },
  {
   "cell_type": "code",
   "execution_count": 161,
   "metadata": {},
   "outputs": [
    {
     "data": {
      "text/plain": [
       "3"
      ]
     },
     "execution_count": 161,
     "metadata": {},
     "output_type": "execute_result"
    }
   ],
   "source": [
    "len(a)\n",
    "\n"
   ]
  }
 ],
 "metadata": {
  "kernelspec": {
   "display_name": "Python 3",
   "language": "python",
   "name": "python3"
  },
  "language_info": {
   "codemirror_mode": {
    "name": "ipython",
    "version": 3
   },
   "file_extension": ".py",
   "mimetype": "text/x-python",
   "name": "python",
   "nbconvert_exporter": "python",
   "pygments_lexer": "ipython3",
   "version": "3.7.4"
  }
 },
 "nbformat": 4,
 "nbformat_minor": 2
}
